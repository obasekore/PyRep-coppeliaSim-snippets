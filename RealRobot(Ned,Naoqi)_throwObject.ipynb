{
 "cells": [
  {
   "cell_type": "code",
   "execution_count": 3,
   "id": "8f48f7f0-807f-4ae9-8cc9-d417ad2258ef",
   "metadata": {},
   "outputs": [
    {
     "name": "stdout",
     "output_type": "stream",
     "text": [
      "/bin/bash: ./home/obasekore/Documents/choregraphe-suite-2.8.6.23-linux64/bin/naoqi-bin: No such file or directory\n"
     ]
    }
   ],
   "source": [
    "# Start naoqi\n",
    "! ./home/obasekore/Documents/choregraphe-suite-2.8.6.23-linux64/bin/naoqi-bin "
   ]
  },
  {
   "cell_type": "code",
   "execution_count": 2,
   "id": "d16261fb-6090-4d26-9f3a-7f7864d5fb66",
   "metadata": {
    "collapsed": true,
    "jupyter": {
     "outputs_hidden": true
    },
    "tags": []
   },
   "outputs": [
    {
     "name": "stdout",
     "output_type": "stream",
     "text": [
      "Collecting ipywidgets\n",
      "  Downloading ipywidgets-7.6.5-py2.py3-none-any.whl (121 kB)\n",
      "\u001b[K     |████████████████████████████████| 121 kB 1.1 MB/s eta 0:00:01\n",
      "\u001b[?25hCollecting jupyterlab-widgets>=1.0.0\n",
      "  Downloading jupyterlab_widgets-1.0.2-py3-none-any.whl (243 kB)\n",
      "\u001b[K     |████████████████████████████████| 243 kB 1.2 MB/s eta 0:00:01\n",
      "\u001b[?25hCollecting widgetsnbextension~=3.5.0\n",
      "  Downloading widgetsnbextension-3.5.1-py2.py3-none-any.whl (2.2 MB)\n",
      "\u001b[K     |████████████████████████████████| 2.2 MB 1.3 MB/s eta 0:00:01\n",
      "\u001b[?25hRequirement already satisfied: ipython>=4.0.0 in /media/obasekore/ce3d2447-db57-4289-a3a0-0cba00306dcc/home/obasekore/anaconda3/envs/RL_latest/lib/python3.7/site-packages (from ipywidgets) (7.22.0)\n",
      "Requirement already satisfied: ipykernel>=4.5.1 in /media/obasekore/ce3d2447-db57-4289-a3a0-0cba00306dcc/home/obasekore/anaconda3/envs/RL_latest/lib/python3.7/site-packages (from ipywidgets) (5.3.4)\n",
      "Requirement already satisfied: traitlets>=4.3.1 in /media/obasekore/ce3d2447-db57-4289-a3a0-0cba00306dcc/home/obasekore/anaconda3/envs/RL_latest/lib/python3.7/site-packages (from ipywidgets) (5.0.5)\n",
      "Requirement already satisfied: nbformat>=4.2.0 in /media/obasekore/ce3d2447-db57-4289-a3a0-0cba00306dcc/home/obasekore/anaconda3/envs/RL_latest/lib/python3.7/site-packages (from ipywidgets) (5.1.3)\n",
      "Requirement already satisfied: ipython-genutils~=0.2.0 in /media/obasekore/ce3d2447-db57-4289-a3a0-0cba00306dcc/home/obasekore/anaconda3/envs/RL_latest/lib/python3.7/site-packages (from ipywidgets) (0.2.0)\n",
      "Requirement already satisfied: tornado>=4.2 in /media/obasekore/ce3d2447-db57-4289-a3a0-0cba00306dcc/home/obasekore/anaconda3/envs/RL_latest/lib/python3.7/site-packages (from ipykernel>=4.5.1->ipywidgets) (6.1)\n",
      "Requirement already satisfied: jupyter-client in /media/obasekore/ce3d2447-db57-4289-a3a0-0cba00306dcc/home/obasekore/anaconda3/envs/RL_latest/lib/python3.7/site-packages (from ipykernel>=4.5.1->ipywidgets) (6.1.12)\n",
      "Requirement already satisfied: backcall in /media/obasekore/ce3d2447-db57-4289-a3a0-0cba00306dcc/home/obasekore/anaconda3/envs/RL_latest/lib/python3.7/site-packages (from ipython>=4.0.0->ipywidgets) (0.2.0)\n",
      "Requirement already satisfied: pygments in /media/obasekore/ce3d2447-db57-4289-a3a0-0cba00306dcc/home/obasekore/anaconda3/envs/RL_latest/lib/python3.7/site-packages (from ipython>=4.0.0->ipywidgets) (2.9.0)\n",
      "Requirement already satisfied: setuptools>=18.5 in /media/obasekore/ce3d2447-db57-4289-a3a0-0cba00306dcc/home/obasekore/anaconda3/envs/RL_latest/lib/python3.7/site-packages (from ipython>=4.0.0->ipywidgets) (52.0.0.post20210125)\n",
      "Requirement already satisfied: jedi>=0.16 in /media/obasekore/ce3d2447-db57-4289-a3a0-0cba00306dcc/home/obasekore/anaconda3/envs/RL_latest/lib/python3.7/site-packages (from ipython>=4.0.0->ipywidgets) (0.17.0)\n",
      "Requirement already satisfied: decorator in /media/obasekore/ce3d2447-db57-4289-a3a0-0cba00306dcc/home/obasekore/anaconda3/envs/RL_latest/lib/python3.7/site-packages (from ipython>=4.0.0->ipywidgets) (5.0.9)\n",
      "Requirement already satisfied: pickleshare in /media/obasekore/ce3d2447-db57-4289-a3a0-0cba00306dcc/home/obasekore/anaconda3/envs/RL_latest/lib/python3.7/site-packages (from ipython>=4.0.0->ipywidgets) (0.7.5)\n",
      "Requirement already satisfied: prompt-toolkit!=3.0.0,!=3.0.1,<3.1.0,>=2.0.0 in /media/obasekore/ce3d2447-db57-4289-a3a0-0cba00306dcc/home/obasekore/anaconda3/envs/RL_latest/lib/python3.7/site-packages (from ipython>=4.0.0->ipywidgets) (3.0.17)\n",
      "Requirement already satisfied: pexpect>4.3 in /media/obasekore/ce3d2447-db57-4289-a3a0-0cba00306dcc/home/obasekore/anaconda3/envs/RL_latest/lib/python3.7/site-packages (from ipython>=4.0.0->ipywidgets) (4.8.0)\n",
      "Requirement already satisfied: parso>=0.7.0 in /media/obasekore/ce3d2447-db57-4289-a3a0-0cba00306dcc/home/obasekore/anaconda3/envs/RL_latest/lib/python3.7/site-packages (from jedi>=0.16->ipython>=4.0.0->ipywidgets) (0.8.2)\n",
      "Requirement already satisfied: jsonschema!=2.5.0,>=2.4 in /media/obasekore/ce3d2447-db57-4289-a3a0-0cba00306dcc/home/obasekore/anaconda3/envs/RL_latest/lib/python3.7/site-packages (from nbformat>=4.2.0->ipywidgets) (3.2.0)\n",
      "Requirement already satisfied: jupyter-core in /media/obasekore/ce3d2447-db57-4289-a3a0-0cba00306dcc/home/obasekore/anaconda3/envs/RL_latest/lib/python3.7/site-packages (from nbformat>=4.2.0->ipywidgets) (4.7.1)\n",
      "Requirement already satisfied: attrs>=17.4.0 in /media/obasekore/ce3d2447-db57-4289-a3a0-0cba00306dcc/home/obasekore/anaconda3/envs/RL_latest/lib/python3.7/site-packages (from jsonschema!=2.5.0,>=2.4->nbformat>=4.2.0->ipywidgets) (21.2.0)\n",
      "Requirement already satisfied: six>=1.11.0 in /media/obasekore/ce3d2447-db57-4289-a3a0-0cba00306dcc/home/obasekore/anaconda3/envs/RL_latest/lib/python3.7/site-packages (from jsonschema!=2.5.0,>=2.4->nbformat>=4.2.0->ipywidgets) (1.16.0)\n",
      "Requirement already satisfied: pyrsistent>=0.14.0 in /media/obasekore/ce3d2447-db57-4289-a3a0-0cba00306dcc/home/obasekore/anaconda3/envs/RL_latest/lib/python3.7/site-packages (from jsonschema!=2.5.0,>=2.4->nbformat>=4.2.0->ipywidgets) (0.17.3)\n",
      "Requirement already satisfied: importlib-metadata in /media/obasekore/ce3d2447-db57-4289-a3a0-0cba00306dcc/home/obasekore/anaconda3/envs/RL_latest/lib/python3.7/site-packages (from jsonschema!=2.5.0,>=2.4->nbformat>=4.2.0->ipywidgets) (3.10.0)\n",
      "Requirement already satisfied: ptyprocess>=0.5 in /media/obasekore/ce3d2447-db57-4289-a3a0-0cba00306dcc/home/obasekore/anaconda3/envs/RL_latest/lib/python3.7/site-packages (from pexpect>4.3->ipython>=4.0.0->ipywidgets) (0.7.0)\n",
      "Requirement already satisfied: wcwidth in /media/obasekore/ce3d2447-db57-4289-a3a0-0cba00306dcc/home/obasekore/anaconda3/envs/RL_latest/lib/python3.7/site-packages (from prompt-toolkit!=3.0.0,!=3.0.1,<3.1.0,>=2.0.0->ipython>=4.0.0->ipywidgets) (0.2.5)\n",
      "Requirement already satisfied: notebook>=4.4.1 in /media/obasekore/ce3d2447-db57-4289-a3a0-0cba00306dcc/home/obasekore/anaconda3/envs/RL_latest/lib/python3.7/site-packages (from widgetsnbextension~=3.5.0->ipywidgets) (6.4.0)\n",
      "Requirement already satisfied: jinja2 in /media/obasekore/ce3d2447-db57-4289-a3a0-0cba00306dcc/home/obasekore/anaconda3/envs/RL_latest/lib/python3.7/site-packages (from notebook>=4.4.1->widgetsnbextension~=3.5.0->ipywidgets) (3.0.1)\n",
      "Requirement already satisfied: prometheus-client in /media/obasekore/ce3d2447-db57-4289-a3a0-0cba00306dcc/home/obasekore/anaconda3/envs/RL_latest/lib/python3.7/site-packages (from notebook>=4.4.1->widgetsnbextension~=3.5.0->ipywidgets) (0.11.0)\n",
      "Requirement already satisfied: Send2Trash>=1.5.0 in /media/obasekore/ce3d2447-db57-4289-a3a0-0cba00306dcc/home/obasekore/anaconda3/envs/RL_latest/lib/python3.7/site-packages (from notebook>=4.4.1->widgetsnbextension~=3.5.0->ipywidgets) (1.5.0)\n",
      "Requirement already satisfied: argon2-cffi in /media/obasekore/ce3d2447-db57-4289-a3a0-0cba00306dcc/home/obasekore/anaconda3/envs/RL_latest/lib/python3.7/site-packages (from notebook>=4.4.1->widgetsnbextension~=3.5.0->ipywidgets) (20.1.0)\n",
      "Requirement already satisfied: terminado>=0.8.3 in /media/obasekore/ce3d2447-db57-4289-a3a0-0cba00306dcc/home/obasekore/anaconda3/envs/RL_latest/lib/python3.7/site-packages (from notebook>=4.4.1->widgetsnbextension~=3.5.0->ipywidgets) (0.9.4)\n",
      "Requirement already satisfied: pyzmq>=17 in /media/obasekore/ce3d2447-db57-4289-a3a0-0cba00306dcc/home/obasekore/anaconda3/envs/RL_latest/lib/python3.7/site-packages (from notebook>=4.4.1->widgetsnbextension~=3.5.0->ipywidgets) (20.0.0)\n",
      "Requirement already satisfied: nbconvert in /media/obasekore/ce3d2447-db57-4289-a3a0-0cba00306dcc/home/obasekore/anaconda3/envs/RL_latest/lib/python3.7/site-packages (from notebook>=4.4.1->widgetsnbextension~=3.5.0->ipywidgets) (6.1.0)\n",
      "Requirement already satisfied: python-dateutil>=2.1 in /media/obasekore/ce3d2447-db57-4289-a3a0-0cba00306dcc/home/obasekore/anaconda3/envs/RL_latest/lib/python3.7/site-packages (from jupyter-client->ipykernel>=4.5.1->ipywidgets) (2.8.2)\n",
      "Requirement already satisfied: cffi>=1.0.0 in /media/obasekore/ce3d2447-db57-4289-a3a0-0cba00306dcc/home/obasekore/anaconda3/envs/RL_latest/lib/python3.7/site-packages (from argon2-cffi->notebook>=4.4.1->widgetsnbextension~=3.5.0->ipywidgets) (1.14.6)\n",
      "Requirement already satisfied: pycparser in /media/obasekore/ce3d2447-db57-4289-a3a0-0cba00306dcc/home/obasekore/anaconda3/envs/RL_latest/lib/python3.7/site-packages (from cffi>=1.0.0->argon2-cffi->notebook>=4.4.1->widgetsnbextension~=3.5.0->ipywidgets) (2.20)\n",
      "Requirement already satisfied: typing-extensions>=3.6.4 in /media/obasekore/ce3d2447-db57-4289-a3a0-0cba00306dcc/home/obasekore/anaconda3/envs/RL_latest/lib/python3.7/site-packages (from importlib-metadata->jsonschema!=2.5.0,>=2.4->nbformat>=4.2.0->ipywidgets) (3.10.0.0)\n",
      "Requirement already satisfied: zipp>=0.5 in /media/obasekore/ce3d2447-db57-4289-a3a0-0cba00306dcc/home/obasekore/anaconda3/envs/RL_latest/lib/python3.7/site-packages (from importlib-metadata->jsonschema!=2.5.0,>=2.4->nbformat>=4.2.0->ipywidgets) (3.5.0)\n",
      "Requirement already satisfied: MarkupSafe>=2.0 in /media/obasekore/ce3d2447-db57-4289-a3a0-0cba00306dcc/home/obasekore/anaconda3/envs/RL_latest/lib/python3.7/site-packages (from jinja2->notebook>=4.4.1->widgetsnbextension~=3.5.0->ipywidgets) (2.0.1)\n",
      "Requirement already satisfied: nbclient<0.6.0,>=0.5.0 in /media/obasekore/ce3d2447-db57-4289-a3a0-0cba00306dcc/home/obasekore/anaconda3/envs/RL_latest/lib/python3.7/site-packages (from nbconvert->notebook>=4.4.1->widgetsnbextension~=3.5.0->ipywidgets) (0.5.3)\n",
      "Requirement already satisfied: bleach in /media/obasekore/ce3d2447-db57-4289-a3a0-0cba00306dcc/home/obasekore/anaconda3/envs/RL_latest/lib/python3.7/site-packages (from nbconvert->notebook>=4.4.1->widgetsnbextension~=3.5.0->ipywidgets) (3.3.1)\n",
      "Requirement already satisfied: defusedxml in /media/obasekore/ce3d2447-db57-4289-a3a0-0cba00306dcc/home/obasekore/anaconda3/envs/RL_latest/lib/python3.7/site-packages (from nbconvert->notebook>=4.4.1->widgetsnbextension~=3.5.0->ipywidgets) (0.7.1)\n",
      "Requirement already satisfied: testpath in /media/obasekore/ce3d2447-db57-4289-a3a0-0cba00306dcc/home/obasekore/anaconda3/envs/RL_latest/lib/python3.7/site-packages (from nbconvert->notebook>=4.4.1->widgetsnbextension~=3.5.0->ipywidgets) (0.5.0)\n",
      "Requirement already satisfied: mistune<2,>=0.8.1 in /media/obasekore/ce3d2447-db57-4289-a3a0-0cba00306dcc/home/obasekore/anaconda3/envs/RL_latest/lib/python3.7/site-packages (from nbconvert->notebook>=4.4.1->widgetsnbextension~=3.5.0->ipywidgets) (0.8.4)\n",
      "Requirement already satisfied: entrypoints>=0.2.2 in /media/obasekore/ce3d2447-db57-4289-a3a0-0cba00306dcc/home/obasekore/anaconda3/envs/RL_latest/lib/python3.7/site-packages (from nbconvert->notebook>=4.4.1->widgetsnbextension~=3.5.0->ipywidgets) (0.3)\n",
      "Requirement already satisfied: pandocfilters>=1.4.1 in /media/obasekore/ce3d2447-db57-4289-a3a0-0cba00306dcc/home/obasekore/anaconda3/envs/RL_latest/lib/python3.7/site-packages (from nbconvert->notebook>=4.4.1->widgetsnbextension~=3.5.0->ipywidgets) (1.4.3)\n",
      "Requirement already satisfied: jupyterlab-pygments in /media/obasekore/ce3d2447-db57-4289-a3a0-0cba00306dcc/home/obasekore/anaconda3/envs/RL_latest/lib/python3.7/site-packages (from nbconvert->notebook>=4.4.1->widgetsnbextension~=3.5.0->ipywidgets) (0.1.2)\n",
      "Requirement already satisfied: async-generator in /media/obasekore/ce3d2447-db57-4289-a3a0-0cba00306dcc/home/obasekore/anaconda3/envs/RL_latest/lib/python3.7/site-packages (from nbclient<0.6.0,>=0.5.0->nbconvert->notebook>=4.4.1->widgetsnbextension~=3.5.0->ipywidgets) (1.10)\n",
      "Requirement already satisfied: nest-asyncio in /media/obasekore/ce3d2447-db57-4289-a3a0-0cba00306dcc/home/obasekore/anaconda3/envs/RL_latest/lib/python3.7/site-packages (from nbclient<0.6.0,>=0.5.0->nbconvert->notebook>=4.4.1->widgetsnbextension~=3.5.0->ipywidgets) (1.5.1)\n",
      "Requirement already satisfied: webencodings in /media/obasekore/ce3d2447-db57-4289-a3a0-0cba00306dcc/home/obasekore/anaconda3/envs/RL_latest/lib/python3.7/site-packages (from bleach->nbconvert->notebook>=4.4.1->widgetsnbextension~=3.5.0->ipywidgets) (0.5.1)\n",
      "Requirement already satisfied: packaging in /media/obasekore/ce3d2447-db57-4289-a3a0-0cba00306dcc/home/obasekore/anaconda3/envs/RL_latest/lib/python3.7/site-packages (from bleach->nbconvert->notebook>=4.4.1->widgetsnbextension~=3.5.0->ipywidgets) (21.0)\n",
      "Requirement already satisfied: pyparsing>=2.0.2 in /media/obasekore/ce3d2447-db57-4289-a3a0-0cba00306dcc/home/obasekore/anaconda3/envs/RL_latest/lib/python3.7/site-packages (from packaging->bleach->nbconvert->notebook>=4.4.1->widgetsnbextension~=3.5.0->ipywidgets) (2.4.7)\n",
      "Installing collected packages: widgetsnbextension, jupyterlab-widgets, ipywidgets\n",
      "Successfully installed ipywidgets-7.6.5 jupyterlab-widgets-1.0.2 widgetsnbextension-3.5.1\n"
     ]
    }
   ],
   "source": [
    "!pip install ipywidgets"
   ]
  },
  {
   "cell_type": "code",
   "execution_count": 5,
   "id": "9df735d1-d4db-4941-ac8a-c30a36f0b897",
   "metadata": {},
   "outputs": [
    {
     "name": "stdout",
     "output_type": "stream",
     "text": [
      "[sudo] password for obasekore: sudo: ./home/obasekore/Documents/choregraphe-suite-2.8.6.23-linux64/choregraphe: command not found\n"
     ]
    }
   ],
   "source": [
    "# Start chore \n",
    "! echo \"1\" | sudo -S ./home/obasekore/Documents/choregraphe-suite-2.8.6.23-linux64/choregraphe"
   ]
  },
  {
   "cell_type": "code",
   "execution_count": 2,
   "id": "b6123b60-0cc5-4db9-95ab-c8e7cd079708",
   "metadata": {},
   "outputs": [],
   "source": [
    "from sys import platform \n",
    "\n",
    "if platform == \"linux\" or platform == \"linux2\":\n",
    "    import curses as cc\n",
    "elif platform == \"win32\":\n",
    "    import msvcrt as cc\n",
    "elif platform == \"darwin\":\n",
    "    # OS X\n",
    "    pass\n"
   ]
  },
  {
   "cell_type": "markdown",
   "id": "ec58968d-7c1c-453e-a6ad-8d0cf9d83052",
   "metadata": {},
   "source": [
    "done = False\n",
    "while not done:\n",
    "    stdscr = cc.initscr()\n",
    "    if stdscr.getch() != -1 :\n",
    "        done = True\n",
    "# print 'you entered', chr(c)\n",
    "# cc.endwin()"
   ]
  },
  {
   "cell_type": "code",
   "execution_count": 1,
   "id": "4546ea68-5519-4cdc-9f66-6e1e170a2ecf",
   "metadata": {},
   "outputs": [],
   "source": [
    "import subprocess\n",
    "import execnet\n",
    "from matplotlib import pyplot as plt\n",
    "\n",
    "from PIL import Image\n",
    "import base64\n",
    "import numpy as np\n",
    "from io import BytesIO\n",
    "\n",
    "import sys\n",
    "from multiprocessing import Process\n",
    "import threading\n",
    "from time import sleep\n",
    "from ast import literal_eval\n",
    "import time\n",
    "import random\n",
    "import datetime"
   ]
  },
  {
   "cell_type": "code",
   "execution_count": 2,
   "id": "2140e51a-29e5-4506-83ee-29dfe1f6c3c2",
   "metadata": {},
   "outputs": [],
   "source": [
    "from IPython.display import display\n",
    "import ipywidgets as widgets"
   ]
  },
  {
   "cell_type": "code",
   "execution_count": 3,
   "id": "a94c30a4-83c2-4492-ae32-db75ca6b2a14",
   "metadata": {},
   "outputs": [],
   "source": [
    "done = False"
   ]
  },
  {
   "cell_type": "code",
   "execution_count": 3,
   "id": "289bc9fb-a7e2-46df-99fc-344b039ad554",
   "metadata": {},
   "outputs": [],
   "source": [
    "button = widgets.Button(description=\"Click Me!\")\n",
    "\n",
    "def on_button_clicked(b):\n",
    "    global done\n",
    "    done = True\n",
    "    print('done')\n",
    "\n",
    "button.on_click(on_button_clicked)"
   ]
  },
  {
   "cell_type": "code",
   "execution_count": 4,
   "id": "30474ce4-5ab4-42e0-9393-f4f1894a4b90",
   "metadata": {},
   "outputs": [],
   "source": [
    "import gym, humanoid_gym\n",
    "import pybullet as p"
   ]
  },
  {
   "cell_type": "code",
   "execution_count": 5,
   "id": "a98e9102-8e7a-4afb-9152-0285ee8a4643",
   "metadata": {},
   "outputs": [
    {
     "name": "stderr",
     "output_type": "stream",
     "text": [
      "/media/obasekore/ce3d2447-db57-4289-a3a0-0cba00306dcc/home/obasekore/anaconda3/envs/RL_latest/lib/python3.7/site-packages/gym/logger.py:30: UserWarning: \u001b[33mWARN: Box bound precision lowered by casting to float32\u001b[0m\n",
      "  warnings.warn(colorize('%s: %s'%('WARN', msg % args), 'yellow'))\n"
     ]
    }
   ],
   "source": [
    "env = gym.make('nao-v0')"
   ]
  },
  {
   "cell_type": "code",
   "execution_count": null,
   "id": "ef4886a4-c5e3-432d-a589-f4ac05e460ba",
   "metadata": {},
   "outputs": [],
   "source": [
    "class naoBalance(humanoid_gym):\n",
    "    \n",
    "    def __init__(self):\n",
    "        super(self).__init__()\n",
    "        \n",
    "        return\n",
    "    def step(self):\n",
    "        \n",
    "        return"
   ]
  },
  {
   "cell_type": "code",
   "execution_count": 2,
   "id": "bc7533cf-0479-4921-b306-1f55f46a07b0",
   "metadata": {},
   "outputs": [],
   "source": [
    "class StoppableThread(threading.Thread):\n",
    "    \n",
    "    def __init__(self):\n",
    "        super(StoppableThread, self).__init__()\n",
    "        self.exitflag = threading.Event()\n",
    "        self.done = False\n",
    "        self.gw = execnet.makegateway(\"popen//python=/media/obasekore/ce3d2447-db57-4289-a3a0-0cba00306dcc/home/obasekore/anaconda3/envs/naoqi_pyrep/bin/python2.7\")\n",
    "        self.startChannel()\n",
    "        self.connectChannel()\n",
    "        self.q_list = []\n",
    "        \n",
    "        return\n",
    "    def run(self):\n",
    "        \n",
    "        while(not self.done):\n",
    "            if self.exitflag.isSet():\n",
    "                break\n",
    "            self.sendCommandAngles()\n",
    "#             actions = self.getCommandAngles()\n",
    "#             env.render()\n",
    "#             observation, reward, done, info = env.step(actions)\n",
    "            \n",
    "    def SetExitFlag(self):\n",
    "        self.disconnectChannel()\n",
    "        self.exitflag.set()\n",
    "        return\n",
    "    \n",
    "    def connectChannel(self):\n",
    "        x = [\n",
    "        'motionProxy = ALProxy(\\'ALMotion\\', \\'127.0.0.1\\', 9559)',\n",
    "        'motionProxy.stiffnessInterpolation(\\'Body\\',1.0, 1.0)',\n",
    "        'postureProxy = ALProxy(\\'ALRobotPosture\\', \\'127.0.0.1\\', 9559)',\n",
    "#         'postureProxy.goToPosture(\\'StandInit\\', 0.5)',\n",
    "#         'postureProxy.goToPosture(\\'StandZero\\', 0.5)',\n",
    "        ]\n",
    "        for cmd in x:\n",
    "            self.channel.send({'mode':'command','data':cmd})\n",
    "            _ = (self.channel.receive())\n",
    "        return\n",
    "\n",
    "    def sendCommandAngles(self):\n",
    "        cmd = 'y = motionProxy.getAngles(\\'Body\\', False)'\n",
    "        self.channel.send({'mode':'command','data':cmd})\n",
    "        cmdAngles = (self.channel.receive())\n",
    "        exec('self.commandAngles = np.array(%s)'% cmdAngles)\n",
    "    def computeDisplacement2JTraj(self,init,effector,d):\n",
    "        cmds = [\n",
    "                'effector   = \\'LArm\\'',\n",
    "                'frame = motion.FRAME_TORSO',\n",
    "                'axisMask = almath.AXIS_MASK_VEL',\n",
    "                'useSensorValues = False',\n",
    "                'path = []',\n",
    "                'currentTf = motionProxy.getTransform(effector, frame, useSensorValues)',\n",
    "                'targetTf  = almath.Transform(currentTf)',\n",
    "                'targetTf.r1_c4 += 0.03', # x\n",
    "                'targetTf.r2_c4 += 0.03',# y\n",
    "                'targetTf.r3_c4 += 0.03',# y\n",
    "                'path.append(list(targetTf.toVector()))',\n",
    "                'path.append(currentTf)',\n",
    "                # Go to the target and back again\n",
    "                'times = [2.0, 4.0]', # seconds\n",
    "                'motionProxy.transformInterpolations(effector, frame, path, axisMask, times)',\n",
    "                'angles = []',\n",
    "                'while motionProxy.moveIsActive(): angles.append(motionProxy.getAngles(\\'Body\\', False))',\n",
    "                'y = angles'\n",
    "            ]\n",
    "        \n",
    "        \n",
    "        return self.q_list\n",
    "    def getLastAngleTraj(self):\n",
    "\n",
    "        return self.q_list\n",
    "    def getCommandAngles(self):\n",
    "        return self.commandAngles\n",
    "    \n",
    "    def disconnectChannel(self):\n",
    "        self.channel.send({'mode':None,'data':''})\n",
    "        print (self.channel.receive())\n",
    "        return\n",
    "       \n",
    "    def startChannel(self):\n",
    "        self.channel = self.gw.remote_exec(\"\"\"\n",
    "            from naoqi import ALProxy\n",
    "            from PIL import Image\n",
    "            import motion\n",
    "            import almath\n",
    "            import numpy as np\n",
    "            import base64\n",
    "            status = 0\n",
    "            info = ''\n",
    "            while 1:\n",
    "                status+=1\n",
    "                x = channel.receive()\n",
    "                if x['mode'] is None:\n",
    "                    info += str(status)+' finished'\n",
    "                    break\n",
    "                elif x['mode'] == 'command':\n",
    "                    y = ''\n",
    "                    exec(x['data'])\n",
    "                    info = y\n",
    "                    channel.send(repr(info))\n",
    "\n",
    "            channel.send(repr(info))\n",
    "            motionProxy.stop(0)\n",
    "            postureProxy.stop(0)\n",
    "        \"\"\")"
   ]
  },
  {
   "cell_type": "code",
   "execution_count": 3,
   "id": "4aa02968-ff17-447f-ba01-b1dde23d1d17",
   "metadata": {},
   "outputs": [],
   "source": [
    "def startingComunication():\n",
    "    \n",
    "    try:\n",
    "        thread1 = StoppableThread()\n",
    "        thread1.start()\n",
    "    except Exception as e:\n",
    "        print(\"Error: unable to start process\")\n",
    "        sys.exit(1)\n",
    "    return thread1\n"
   ]
  },
  {
   "cell_type": "code",
   "execution_count": 4,
   "id": "5befdaa5-c650-4f6c-82a9-5e1635aa2067",
   "metadata": {},
   "outputs": [],
   "source": [
    "thread1 = startingComunication()"
   ]
  },
  {
   "cell_type": "code",
   "execution_count": 36,
   "id": "557e82db-39f3-4bd4-9af6-b88d09984df7",
   "metadata": {},
   "outputs": [],
   "source": [
    "gw = execnet.makegateway(\"popen//python=/media/obasekore/ce3d2447-db57-4289-a3a0-0cba00306dcc/home/obasekore/anaconda3/envs/naoqi_pyrep/bin/python2.7\")\n",
    "\n",
    "channel = gw.remote_exec(\"\"\"\n",
    "    from naoqi import ALProxy\n",
    "    from PIL import Image\n",
    "    import motion\n",
    "    import almath\n",
    "    import numpy as np\n",
    "    import base64\n",
    "    status = 0\n",
    "    info = ''\n",
    "    while 1:\n",
    "        status+=1\n",
    "        x = channel.receive()\n",
    "        if x['mode'] is None:\n",
    "            info += str(status)+' finished'\n",
    "            break\n",
    "        elif x['mode'] == 'command':\n",
    "            y = ''\n",
    "            exec(x['data'])\n",
    "            info = y\n",
    "            channel.send(repr(info))\n",
    "        \n",
    "    channel.send(repr(info))\n",
    "    motionProxy.stop(0)\n",
    "    postureProxy.stop(0)\n",
    "\"\"\")"
   ]
  },
  {
   "cell_type": "code",
   "execution_count": 37,
   "id": "0e47335e-87c1-4dff-b5dd-21ccd54196e7",
   "metadata": {},
   "outputs": [],
   "source": [
    "x = [\n",
    "        'motionProxy = ALProxy(\\'ALMotion\\', \\'127.0.0.1\\', 9559)',\n",
    "        'motionProxy.stiffnessInterpolation(\\'Body\\',1.0, 1.0)',\n",
    "        'postureProxy = ALProxy(\\'ALRobotPosture\\', \\'127.0.0.1\\', 9559)',\n",
    "]\n",
    "\n",
    "for cmd in x:\n",
    "    channel.send({'mode':'command','data':cmd})\n",
    "    img = (channel.receive())"
   ]
  },
  {
   "cell_type": "code",
   "execution_count": 9,
   "id": "685312cc-33ff-4ca3-9325-f18ea58adc92",
   "metadata": {
    "tags": []
   },
   "outputs": [],
   "source": [
    "def swapAction(action, lstPos1, lstPos2):\n",
    "#     lstPos1 = [start, length]\n",
    "#     lstPos2 = [start, length]\n",
    "    start1, start2 = lstPos1[0], lstPos2[0]\n",
    "    end1, end2 = lstPos1[0] + lstPos1[1], lstPos2[0] + lstPos2[1]\n",
    "    \n",
    "    action[start2:end2], action[start1:end1] = action[start1:end1], action[start2:end2]\n",
    "    \n",
    "    return action"
   ]
  },
  {
   "cell_type": "code",
   "execution_count": 61,
   "id": "3930f180-a5ab-43a1-9f5d-79ff38c7ce29",
   "metadata": {},
   "outputs": [],
   "source": [
    "cmd = 'motionProxy.moveTo(0, 0, 3.14159, motionProxy.getMoveConfig(\\'Default\\'))'\n",
    "channel.send({'mode':'command','data':cmd})\n",
    "# cmdAngles = (channel.receive())"
   ]
  },
  {
   "cell_type": "code",
   "execution_count": 38,
   "id": "b86624ad",
   "metadata": {},
   "outputs": [],
   "source": [
    "# reset\n",
    "cmd = 'postureProxy.goToPosture(\"StandInit\", 0.5)'\n",
    "channel.send({'mode':'command','data':cmd})\n",
    "img = (channel.receive())"
   ]
  },
  {
   "cell_type": "code",
   "execution_count": null,
   "id": "7c638ada",
   "metadata": {},
   "outputs": [],
   "source": [
    "# disconnect\n",
    "channel.send({'mode':None,'data':''})\n",
    "print (channel.receive())"
   ]
  },
  {
   "cell_type": "code",
   "execution_count": 39,
   "metadata": {},
   "outputs": [],
   "source": [
    "def computeJTraj(endeffector, d_position):\n",
    "    dx,dy,dz = d_position\n",
    "    cmds = [\n",
    "        'effector   = \\'%s\\''%endeffector,\n",
    "        'frame = motion.FRAME_TORSO',\n",
    "        'axisMask = almath.AXIS_MASK_VEL',\n",
    "        'useSensorValues = False',\n",
    "        'path = []',\n",
    "        'currentTf = motionProxy.getTransform(effector, frame, useSensorValues)',\n",
    "        'targetTf  = almath.Transform(currentTf)',\n",
    "        'targetTf.r1_c4 += %s'%dx, # x\n",
    "        'targetTf.r2_c4 += %s'%dy,# y\n",
    "        'targetTf.r3_c4 += %s'%dz,# z\n",
    "        'path.append(list(targetTf.toVector()))',\n",
    "        # 'path.append(currentTf)',\n",
    "        # Go to the target and back again\n",
    "        'times = [1.0]',#, 2.0]', # seconds\n",
    "        'id_ = motionProxy.post.transformInterpolations(effector, frame, path, axisMask, times)',\n",
    "        'angles = []',\n",
    "        'while motionProxy.isRunning(id_): angles.append(motionProxy.getAngles(\\'Body\\', False))',\n",
    "        'y = angles'\n",
    "    ]\n",
    "    return cmds"
   ]
  },
  {
   "cell_type": "code",
   "execution_count": 40,
   "id": "852af115",
   "metadata": {},
   "outputs": [],
   "source": [
    "def getRobotPosition(chainName, frame = 'FRAME_TORSO'):\n",
    "    '''\n",
    "    possible Spaces http://doc.aldebaran.com/1-14/naoqi/motion/control-cartesian.html\n",
    "    frames = [\n",
    "        FRAME_TORSO: this is attached to NAO’s torso reference, so moves with NAO as he walks and changes orientation as he leans. This space is useful when you have very local tasks, that make sense in the orientation of the torso frame.\n",
    "        FRAME_WORLD: this is a fixed origin that is never altered. It is left behind when NAO walks, and will be different in z rotation after NAO has turned. This space is useful for calculations which require an external, absolute frame of reference.\n",
    "        FRAME_ROBOT: this is average of the two feet positions projected around a vertical z axis. This space is useful, because the x axis is always forwards, so provides a natural ego-centric reference.\n",
    "    ]\n",
    "    '''\n",
    "    cmds = [\n",
    "        'name            = \"%s\"'%chainName,\n",
    "        'frame           = motion.%s'%frame,\n",
    "        'useSensorValues = True',\n",
    "        'result          = motionProxy.getPosition(name, frame, useSensorValues)',\n",
    "        'y               = result'\n",
    "    ]\n",
    "    position6D = executeCMD (cmds)\n",
    "    # position6D = np.array(y)#'% y\n",
    "    # exec('position6D = list({})'.format(y))\n",
    "    return position6D"
   ]
  },
  {
   "cell_type": "code",
   "execution_count": 41,
   "id": "891d0b9c",
   "metadata": {},
   "outputs": [],
   "source": [
    "def executeCMD (cmds):\n",
    "    y='[]'\n",
    "    for cmd in cmds:\n",
    "        channel.send({'mode':'command','data':cmd})\n",
    "        retr = (channel.receive())\n",
    "        if (len(retr)>2): # length of \"''\" when empty\n",
    "            y = retr  \n",
    "    # exec('y = np.array({})'.format(y))#y    \n",
    "    return np.array(literal_eval(y))"
   ]
  },
  {
   "cell_type": "code",
   "execution_count": 47,
   "id": "9b90e768",
   "metadata": {},
   "outputs": [
    {
     "data": {
      "text/plain": [
       "array([ 0.12399618,  0.15378509,  0.03738566, -1.1555711 ,  0.01034779,\n",
       "       -0.19253278])"
      ]
     },
     "execution_count": 47,
     "metadata": {},
     "output_type": "execute_result"
    }
   ],
   "source": [
    "eff = 'LArm'\n",
    "yy = getRobotPosition(chainName=eff, frame = 'FRAME_TORSO')\n",
    "yy"
   ]
  },
  {
   "cell_type": "code",
   "execution_count": 43,
   "id": "9d11a701",
   "metadata": {},
   "outputs": [],
   "source": [
    "endeffector = 'LArm'\n",
    "d_position = np.array([0,0.0, 0.1])\n",
    "cmds = computeJTraj(endeffector, d_position)"
   ]
  },
  {
   "cell_type": "code",
   "execution_count": 44,
   "id": "e0afa065",
   "metadata": {},
   "outputs": [],
   "source": [
    "for cmd in cmds:\n",
    "    channel.send({'mode':'command','data':cmd})\n",
    "    retr = (channel.receive())\n",
    "    if (len(retr)>2): # length of \"''\" when empty\n",
    "        y = retr\n",
    "        \n",
    "    # print(y)"
   ]
  },
  {
   "cell_type": "code",
   "execution_count": 45,
   "id": "8c0be730",
   "metadata": {},
   "outputs": [
    {
     "data": {
      "text/plain": [
       "668355"
      ]
     },
     "execution_count": 45,
     "metadata": {},
     "output_type": "execute_result"
    }
   ],
   "source": [
    "len(y)"
   ]
  },
  {
   "cell_type": "code",
   "execution_count": 46,
   "id": "f663ceba",
   "metadata": {},
   "outputs": [
    {
     "data": {
      "text/plain": [
       "(1728, 26)"
      ]
     },
     "execution_count": 46,
     "metadata": {},
     "output_type": "execute_result"
    }
   ],
   "source": [
    "exec('angles = np.array(%s)'%y)\n",
    "angles.shape"
   ]
  },
  {
   "cell_type": "code",
   "execution_count": 117,
   "id": "e5e75e55",
   "metadata": {},
   "outputs": [
    {
     "name": "stdout",
     "output_type": "stream",
     "text": [
      "LArm\n",
      "Arm\n"
     ]
    }
   ],
   "source": [
    "nao_left_arm = [5,6,7,8]\n",
    "endeffectors_robot = {\"LArm\":nao_left_arm,\"Arm\":nao_left_arm}\n",
    "dummy = [6, 0]\n",
    "for (eff,robot),_ in zip(endeffectors_robot.items(),dummy):\n",
    "    print(eff)"
   ]
  },
  {
   "cell_type": "code",
   "execution_count": 73,
   "id": "f42cd875",
   "metadata": {},
   "outputs": [
    {
     "data": {
      "text/plain": [
       "{'RArm': [[7, 7, 9, 9, 4, 4], [1, 4, 8, 5], [1, 2, 3, 4, 6]]}"
      ]
     },
     "execution_count": 73,
     "metadata": {},
     "output_type": "execute_result"
    }
   ],
   "source": [
    "endeffectors_robot = {}\n",
    "endeffectors_robot['RArm']= [[7,7,9,9,4,4],[1,4,8,5],[1,2,3,4,6]]\n",
    "endeffectors_robot"
   ]
  },
  {
   "cell_type": "code",
   "execution_count": 78,
   "id": "20a974e1",
   "metadata": {},
   "outputs": [
    {
     "data": {
      "text/plain": [
       "[1, 2, 3, 4, 6]"
      ]
     },
     "execution_count": 78,
     "metadata": {},
     "output_type": "execute_result"
    }
   ],
   "source": [
    "# prevent removal of las element\n",
    "q = endeffectors_robot['RArm'].pop(0) if len(endeffectors_robot['RArm'])>1 else endeffectors_robot['RArm'][0]\n",
    "q"
   ]
  },
  {
   "cell_type": "code",
   "execution_count": null,
   "id": "88a7f504",
   "metadata": {},
   "outputs": [],
   "source": []
  },
  {
   "cell_type": "code",
   "execution_count": null,
   "id": "472fc542",
   "metadata": {},
   "outputs": [],
   "source": [
    "\n",
    "# The ALMotionProxy::waitUntilMoveIsFinished() method can be used to block your script/code execution until the move task is finished.\n",
    "#  motionProxy.waitUntilMoveIsFinished()\n"
   ]
  },
  {
   "cell_type": "code",
   "execution_count": null,
   "id": "4644ebf1",
   "metadata": {},
   "outputs": [],
   "source": [
    "# The ALMotionProxy::moveIsActive() method returns True while the move task is active.\n",
    "# while proxy.moveIsActive():\n",
    "#   do something"
   ]
  },
  {
   "cell_type": "code",
   "execution_count": 11,
   "id": "ab8e5ea2",
   "metadata": {},
   "outputs": [
    {
     "data": {
      "text/plain": [
       "[\"effector   = 'LArm'\",\n",
       " 'frame = motion.FRAME_TORSO',\n",
       " 'axisMask = almath.AXIS_MASK_VEL',\n",
       " 'useSensorValues = False',\n",
       " 'path = []',\n",
       " 'currentTf = motionProxy.getTransform(effector, frame, useSensorValues)',\n",
       " 'targetTf  = almath.Transform(currentTf)',\n",
       " 'targetTf.r1_c4 += 0.0',\n",
       " 'targetTf.r2_c4 += 0.0',\n",
       " 'targetTf.r3_c4 += 0.1',\n",
       " 'path.append(list(targetTf.toVector()))',\n",
       " 'times = [1.0]',\n",
       " 'id_ = motionProxy.post.transformInterpolations(effector, frame, path, axisMask, times)',\n",
       " 'angles = []',\n",
       " \"while motionProxy.isRunning(id_): angles.append(motionProxy.getAngles('Body', False))\",\n",
       " 'y = angles']"
      ]
     },
     "execution_count": 11,
     "metadata": {},
     "output_type": "execute_result"
    }
   ],
   "source": [
    "cmds"
   ]
  },
  {
   "cell_type": "code",
   "execution_count": null,
   "metadata": {},
   "outputs": [],
   "source": [
    "effector   = \"LArm\"\n",
    "frame      = motion.FRAME_TORSO\n",
    "axisMask   = almath.AXIS_MASK_VEL # just control position\n",
    "useSensorValues = False\n",
    "\n",
    "path = []\n",
    "currentTf = motionProxy.getTransform(effector, frame, useSensorValues)\n",
    "targetTf  = almath.Transform(currentTf)\n",
    "targetTf.r1_c4 += 0.03 # x\n",
    "targetTf.r2_c4 += 0.03 # y\n",
    "\n",
    "path.append(list(targetTf.toVector()))\n",
    "path.append(currentTf)\n",
    "\n",
    "# Go to the target and back again\n",
    "times      = [2.0, 4.0] # seconds\n",
    "\n",
    "motionProxy.transformInterpolations(effector, frame, path, axisMask, times)"
   ]
  },
  {
   "cell_type": "markdown",
   "id": "8f88efd8",
   "metadata": {},
   "source": [
    "<img src=\"http://doc.aldebaran.com/1-14/_images/almotion_names.png\" width=\"500px\"/>"
   ]
  },
  {
   "cell_type": "code",
   "execution_count": null,
   "id": "a812f813-e53d-48b9-a339-25f668b23bda",
   "metadata": {
    "jupyter": {
     "source_hidden": true
    },
    "tags": []
   },
   "outputs": [],
   "source": [
    "env.joint_names\n",
    "# commandAngles : Head(2) + LArm(5+1) + LLeg(6) + RLeg(6) + RArm(5)\n",
    "# nao-gym action: Head(2) + LLeg(6) + LArm(5) + RLeg(6) + RArm(5)\n",
    "\"\"\"\n",
    " 'HeadYaw',\n",
    " 'HeadPitch',\n",
    " \n",
    " 'LHipYawPitch',\n",
    " 'LHipRoll',\n",
    " 'LHipPitch',\n",
    " 'LKneePitch',\n",
    " 'LAnklePitch',\n",
    " 'LAnkleRoll',\n",
    " \n",
    " 'RHipYawPitch',\n",
    " 'RHipRoll',\n",
    " 'RHipPitch',\n",
    " 'RKneePitch',\n",
    " 'RAnklePitch',\n",
    " 'RAnkleRoll',\n",
    " \n",
    " 'LShoulderPitch',\n",
    " 'LShoulderRoll',\n",
    " 'LElbowYaw',\n",
    " 'LElbowRoll',\n",
    " 'LWristYaw',\n",
    " 'LHand',\n",
    " \n",
    " 'RShoulderPitch',\n",
    " 'RShoulderRoll',\n",
    " 'RElbowYaw',\n",
    " 'RElbowRoll',\n",
    " 'RWristYaw',\n",
    " 'RHand'\n",
    " \"\"\""
   ]
  },
  {
   "cell_type": "code",
   "execution_count": null,
   "id": "56af2876-55aa-4c9f-be67-b8fd11bfe181",
   "metadata": {
    "collapsed": true,
    "jupyter": {
     "outputs_hidden": true,
     "source_hidden": true
    },
    "tags": []
   },
   "outputs": [],
   "source": [
    "test = list(range(0,26))\n",
    "lstPos1, lstPos2 = [2, 5], [7, 6]\n",
    "swapped_test = swapAction(test.copy(), lstPos1, lstPos2)\n",
    "for t1, t2 in zip(test, swapped_test): print(t1, t2)\n"
   ]
  },
  {
   "cell_type": "code",
   "execution_count": null,
   "id": "d8767218-44fa-41e9-b6b8-133210bf2a06",
   "metadata": {
    "collapsed": true,
    "jupyter": {
     "outputs_hidden": true,
     "source_hidden": true
    },
    "tags": []
   },
   "outputs": [],
   "source": [
    "i1 = 2\n",
    "leng1 = 5\n",
    "i2 = i1 + leng1\n",
    "leng2 = 6\n",
    "end = i2+leng2\n",
    "test[i2:end], test[i1:i2] = test[i1:i2], test[i2:end]\n",
    "test"
   ]
  },
  {
   "cell_type": "code",
   "execution_count": null,
   "id": "3832e64a-582b-4ec1-b53f-42099707b14f",
   "metadata": {},
   "outputs": [],
   "source": [
    "display(button)"
   ]
  },
  {
   "cell_type": "code",
   "execution_count": null,
   "id": "c266ede0-28fd-49c2-984d-7f8d4cb1a110",
   "metadata": {
    "tags": []
   },
   "outputs": [],
   "source": [
    "lstPos1, lstPos2, lstPos3 = [2, 6], [8, 6], [14, 6]\n",
    "while not done:\n",
    "    env.render()\n",
    "    \n",
    "    actions = thread1.getCommandAngles() #env.action_space.sample()\n",
    "    \n",
    "    corrected_actions = np.array(swapAction(actions.tolist().copy(), lstPos1, lstPos2))\n",
    "    \n",
    "    corrected_actions = np.array(swapAction(corrected_actions.tolist().copy(), lstPos2, lstPos3))\n",
    "    \n",
    "    observation, reward, done, info = env.step(corrected_actions)"
   ]
  },
  {
   "cell_type": "code",
   "execution_count": 13,
   "id": "237c8018-0409-4796-a2f5-5f2119ea4239",
   "metadata": {},
   "outputs": [
    {
     "name": "stdout",
     "output_type": "stream",
     "text": [
      "[0.0, -0.17000003159046173, 1.4526734352111816, 0.21924982964992523, -1.197644829750061, -0.4458167850971222, 0.1023576483130455, 0.30489078164100647, -0.16617099940776825, 0.10837919265031815, 0.14231546223163605, -0.09213417023420334, 0.08190903067588806, -0.1035713478922844, -0.16617099940776825, -0.11786695569753647, 0.13690802454948425, -0.08895419538021088, 0.0830288976430893, 0.10959254205226898, 1.448338270187378, -0.21482731401920319, 1.2205978631973267, 0.433691143989563, 0.11289262026548386, 0.32026150822639465]\n"
     ]
    }
   ],
   "source": [
    "thread1.SetExitFlag()\n",
    "thread1.join()"
   ]
  },
  {
   "cell_type": "code",
   "execution_count": null,
   "id": "4cc0a303-6b91-4be9-88cb-a1d0e3900ef8",
   "metadata": {},
   "outputs": [],
   "source": [
    "actions"
   ]
  },
  {
   "cell_type": "code",
   "execution_count": null,
   "id": "fc5630da-9677-4ba6-91d1-8578a1e02018",
   "metadata": {},
   "outputs": [],
   "source": [
    "env.step(actions)"
   ]
  },
  {
   "cell_type": "code",
   "execution_count": 19,
   "id": "383f7500-6a8d-4b09-9c9f-b8c3cb81a6ca",
   "metadata": {},
   "outputs": [],
   "source": [
    "env.close()"
   ]
  },
  {
   "cell_type": "markdown",
   "metadata": {},
   "source": [
    "## Arm trajectory"
   ]
  },
  {
   "cell_type": "code",
   "execution_count": null,
   "metadata": {},
   "outputs": [],
   "source": [
    "# -*- encoding: UTF-8 -*-\n",
    "\n",
    "'''Cartesian control: Arm trajectory example'''\n",
    "''' This example is only compatible with NAO '''\n",
    "\n",
    "import argparse\n",
    "import motion\n",
    "import almath\n",
    "from naoqi import ALProxy\n",
    "\n",
    "\n",
    "def main(robotIP, PORT=9559):\n",
    "    ''' Example showing a path of two positions\n",
    "    Warning: Needs a PoseInit before executing\n",
    "    '''\n",
    "\n",
    "    motionProxy  = ALProxy(\"ALMotion\", robotIP, PORT)\n",
    "    postureProxy = ALProxy(\"ALRobotPosture\", robotIP, PORT)\n",
    "\n",
    "    # Wake up robot\n",
    "    motionProxy.wakeUp()\n",
    "\n",
    "    # Send robot to Stand Init\n",
    "    postureProxy.goToPosture(\"StandInit\", 0.5)\n",
    "\n",
    "    effector   = \"LArm\"\n",
    "    frame      = motion.FRAME_TORSO\n",
    "    axisMask   = almath.AXIS_MASK_VEL # just control position\n",
    "    useSensorValues = False\n",
    "\n",
    "    path = []\n",
    "    currentTf = motionProxy.getTransform(effector, frame, useSensorValues)\n",
    "    targetTf  = almath.Transform(currentTf)\n",
    "    targetTf.r1_c4 += 0.03 # x\n",
    "    targetTf.r2_c4 += 0.03 # y\n",
    "\n",
    "    path.append(list(targetTf.toVector()))\n",
    "    path.append(currentTf)\n",
    "\n",
    "    # Go to the target and back again\n",
    "    times      = [2.0, 4.0] # seconds\n",
    "\n",
    "    motionProxy.transformInterpolations(effector, frame, path, axisMask, times)\n",
    "\n",
    "    # Go to rest position\n",
    "    motionProxy.rest()\n",
    "\n",
    "if __name__ == \"__main__\":\n",
    "    parser = argparse.ArgumentParser()\n",
    "    parser.add_argument(\"--ip\", type=str, default=\"127.0.0.1\",\n",
    "                        help=\"Robot ip address\")\n",
    "    parser.add_argument(\"--port\", type=int, default=9559,\n",
    "                        help=\"Robot port number\")\n",
    "\n",
    "    args = parser.parse_args()\n",
    "    main(args.ip, args.port)"
   ]
  },
  {
   "cell_type": "markdown",
   "id": "7ab633b8-afbe-43ff-aa59-56e546e91802",
   "metadata": {},
   "source": [
    "# CoppeliaSim"
   ]
  },
  {
   "cell_type": "code",
   "execution_count": 1,
   "id": "bbfa1591-40c6-420f-8485-bf396d6136de",
   "metadata": {},
   "outputs": [],
   "source": [
    "from pyrep.robots.arms.nao import NAOLeft, NAORight, NAOLeftLeg, NAORightLeg, NAOHead\n",
    "from pyrep.errors import IKError\n",
    "from pyrep import PyRep\n",
    "from pyrep.objects.joint import Joint\n",
    "import numpy as np"
   ]
  },
  {
   "cell_type": "code",
   "execution_count": 2,
   "id": "899f79d4",
   "metadata": {},
   "outputs": [],
   "source": [
    "from pyrep.objects.shape import Shape\n",
    "from pyrep.const import PrimitiveShape"
   ]
  },
  {
   "cell_type": "code",
   "execution_count": 3,
   "id": "c8ab1bf0-021d-4bce-9afb-a7f9ce33d35d",
   "metadata": {},
   "outputs": [],
   "source": [
    "pr = PyRep()"
   ]
  },
  {
   "cell_type": "code",
   "execution_count": 4,
   "id": "fda9268c-c406-4608-a56e-75d7b0af094f",
   "metadata": {},
   "outputs": [],
   "source": [
    "# /media/obasekore/ce3d2447-db57-4289-a3a0-0cba00306dcc/home/obasekore/Documents/python_script/CoppeliaSim_Project/MoCAP_RL/NAO_IK_PyRep_.ttt\n",
    "pr.launch('../MoCAP_RL/NAO_IK_PyRep_.ttt')"
   ]
  },
  {
   "cell_type": "code",
   "execution_count": 5,
   "id": "d7d7b3b9-4ca4-4b37-bd3d-f6ad358209fc",
   "metadata": {},
   "outputs": [],
   "source": [
    "pr.start()\n",
    "pr.step()"
   ]
  },
  {
   "cell_type": "code",
   "execution_count": 6,
   "id": "3bc50854",
   "metadata": {},
   "outputs": [],
   "source": [
    "pr.step()"
   ]
  },
  {
   "cell_type": "markdown",
   "id": "42a8c3a4",
   "metadata": {},
   "source": [
    "### Experimenting with throwing object for dynamic stability training"
   ]
  },
  {
   "cell_type": "code",
   "execution_count": 145,
   "id": "06d98edb",
   "metadata": {},
   "outputs": [],
   "source": [
    "ball_size = 0.1\n",
    "center = np.array([0,0]) # center of the robot\n",
    "r = 1\n",
    "min_, max_ = 0, 2*np.pi\n",
    "theta =min_ + (max_ - min_)*np.random.randn()\n",
    "x,y = center + r*np.array([np.cos(theta),np.sin(theta)])\n",
    "\n",
    "z = np.random.randn()*(0.68)\n",
    "\n",
    "position = [x, y, z]#np.random.randn(3)*0.1\n",
    "brown = [1.0,1.0,1.0]\n",
    "# position[2] = 3.4\n",
    "position\n",
    "mass = np.random.randn()"
   ]
  },
  {
   "cell_type": "code",
   "execution_count": 7,
   "id": "48e4fed4",
   "metadata": {},
   "outputs": [],
   "source": [
    "max_force = 10\n",
    "ball_size = 0.1"
   ]
  },
  {
   "cell_type": "code",
   "execution_count": 11,
   "id": "226954a2",
   "metadata": {},
   "outputs": [],
   "source": [
    "# circluar/cylindrical throw\n",
    "for theta in np.linspace(0,2*np.pi,40):\n",
    "    for z in np.linspace(0.1, 0.68,5):\n",
    "        \n",
    "        center = np.array([0,0]) # center of the robot\n",
    "        r = 1\n",
    "        min_, max_ = 0, 2*np.pi\n",
    "        # theta =min_ + (max_ - min_)*np.random.randn()\n",
    "        x,y = center + r*np.array([np.cos(theta),np.sin(theta)])\n",
    "        position = [x,y,z]\n",
    "        # z = np.random.randn()*(0.68)\n",
    "        ball = Shape.create(type=PrimitiveShape.SPHERE, \n",
    "                            size=[ball_size, ball_size, ball_size],\n",
    "                            position=position, mass=0.01)\n",
    "        force = -max_force * np.array([np.cos(theta),np.sin(theta), 0])\n",
    "        ball.add_force_and_torque(force=force,torque=[0,0,0])\n",
    "        pr.step_ui()\n",
    "# pr.step()"
   ]
  },
  {
   "cell_type": "code",
   "execution_count": 8,
   "id": "6475a1a0",
   "metadata": {},
   "outputs": [],
   "source": [
    "for i in range(250): pr.step()"
   ]
  },
  {
   "cell_type": "code",
   "execution_count": 10,
   "id": "a84ac36e",
   "metadata": {},
   "outputs": [],
   "source": [
    "# Random throw\n",
    "for i in range(500): \n",
    "    ball_size = 0.1\n",
    "    center = np.array([0,0]) # center of the robot\n",
    "    r = 1\n",
    "    min_, max_ = 0, 2*np.pi\n",
    "    theta =min_ + (max_ - min_)*np.random.randn()\n",
    "    x,y = center + r*np.array([np.cos(theta),np.sin(theta)])\n",
    "\n",
    "    z = np.random.randn()*(0.68)\n",
    "    position = [x, y, z]#np.random.randn(3)*0.1\n",
    "    ball = Shape.create(type=PrimitiveShape.SPHERE, \n",
    "                        size=[ball_size, ball_size, ball_size],\n",
    "                        position=position, mass=0.01)\n",
    "    \n",
    "    brown = [1.0,1.0,1.0]\n",
    "    max_force = 5\n",
    "    force = -max_force * np.array([np.cos(theta),np.sin(theta), 0])\n",
    "    ball.add_force_and_torque(force=force,torque=[0,0,0])\n",
    "    pr.step()"
   ]
  },
  {
   "cell_type": "code",
   "execution_count": 11,
   "id": "90b05872",
   "metadata": {},
   "outputs": [],
   "source": [
    "pr.stop()"
   ]
  },
  {
   "cell_type": "code",
   "execution_count": 14,
   "id": "8a3ec58e-87ed-4116-9d74-72881164a256",
   "metadata": {},
   "outputs": [],
   "source": [
    "nao_head = NAOHead()\n",
    "nao_left_arm = NAOLeft()\n",
    "nao_right_arm = NAORight()\n",
    "nao_left_leg = NAOLeftLeg()\n",
    "nao_right_leg = NAORightLeg()\n",
    "\n",
    "joints = [\n",
    "            nao_head,\n",
    "            nao_left_leg,\n",
    "            nao_right_leg,\n",
    "            nao_left_arm,\n",
    "            nao_right_arm\n",
    "]"
   ]
  },
  {
   "cell_type": "code",
   "execution_count": 14,
   "id": "c6faef4e-7be0-49ee-88e9-6ba7f8735932",
   "metadata": {},
   "outputs": [
    {
     "data": {
      "text/plain": [
       "True"
      ]
     },
     "execution_count": 14,
     "metadata": {},
     "output_type": "execute_result"
    }
   ],
   "source": [
    "done"
   ]
  },
  {
   "cell_type": "code",
   "execution_count": null,
   "id": "de672429-cc8b-4acc-b310-809cd747d5ea",
   "metadata": {},
   "outputs": [],
   "source": [
    "done = False\n",
    "\n",
    "while not done:\n",
    "#     display(\n",
    "    button\n",
    "#     )\n",
    "    pass\n",
    "    "
   ]
  },
  {
   "cell_type": "code",
   "execution_count": null,
   "id": "d80edd82-d9dd-4829-9abf-6fe3066427f9",
   "metadata": {},
   "outputs": [],
   "source": [
    "# set_joint_positions(positions: List[float], disable_dynamics: bool = False) → None\n",
    "done = False\n",
    "lstPos1, lstPos2, lstPos3 = [2, 6], [8, 6], [14, 6]\n",
    "while not done:\n",
    "    actions = thread1.getCommandAngles() #env.action_space.sample()\n",
    "    \n",
    "    corrected_actions = swapAction(actions.tolist().copy(), lstPos1, lstPos2)\n",
    "    \n",
    "    corrected_actions = swapAction(corrected_actions.copy(), lstPos2, lstPos3)\n",
    "    \n",
    "    start = 0\n",
    "    \n",
    "    for joint in joints:\n",
    "        j_no = joint.get_joint_count()\n",
    "        \n",
    "        end = start+j_no\n",
    "        j_angles = corrected_actions[start:end]\n",
    "        joint.set_joint_target_positions(j_angles)\n",
    "        if(j_no==5):\n",
    "            corrected_actions.pop(end)\n",
    "        start = end\n",
    "    pr.step()\n",
    "#     stdscr = cc.initscr()\n",
    "#     if stdscr.getch() != -1 :\n",
    "#         done = True"
   ]
  },
  {
   "cell_type": "code",
   "execution_count": null,
   "id": "18719b88-9495-47be-999f-3a9593dea19a",
   "metadata": {},
   "outputs": [],
   "source": [
    "lstPos1, lstPos2, lstPos3 = [2, 6], [8, 6], [14, 6]\n",
    "while not done:\n",
    "    env.render()\n",
    "    \n",
    "    actions = thread1.getCommandAngles() #env.action_space.sample()\n",
    "    \n",
    "    corrected_actions = np.array(swapAction(actions.tolist().copy(), lstPos1, lstPos2))\n",
    "    \n",
    "    corrected_actions = np.array(swapAction(corrected_actions.tolist().copy(), lstPos2, lstPos3))\n",
    "    \n",
    "    start = 0\n",
    "    ls_corrected_actions = corrected_actions.tolist()\n",
    "    for joint in joints:\n",
    "        j_no = joint.get_joint_count()\n",
    "        \n",
    "        end = start+j_no\n",
    "        j_angles = ls_corrected_actions[start:end]\n",
    "        joint.set_joint_target_positions(j_angles)\n",
    "        if(j_no==5):\n",
    "            ls_corrected_actions.pop(end)\n",
    "        start = end\n",
    "        pr.step()\n",
    "    observation, reward, done, info = env.step(corrected_actions)\n",
    "     "
   ]
  },
  {
   "cell_type": "code",
   "execution_count": 20,
   "id": "6603740e-81e6-48ae-bbe4-1b10f3de23f5",
   "metadata": {},
   "outputs": [
    {
     "name": "stdout",
     "output_type": "stream",
     "text": [
      "[CoppeliaSim:loadinfo]   done.\n"
     ]
    }
   ],
   "source": [
    "# env.stop()\n",
    "pr.shutdown()"
   ]
  },
  {
   "cell_type": "code",
   "execution_count": 9,
   "id": "c4659f4a-3b53-4cbf-9eae-bcabc071e89c",
   "metadata": {
    "collapsed": true,
    "jupyter": {
     "outputs_hidden": true,
     "source_hidden": true
    },
    "tags": []
   },
   "outputs": [
    {
     "data": {
      "text/plain": [
       "[0.2862339913845062,\n",
       " 0.28611665964126587,\n",
       " -0.1662752330303192,\n",
       " 0.1207890585064888,\n",
       " 0.13886761665344238,\n",
       " -0.0920860543847084,\n",
       " 0.0836828351020813,\n",
       " -0.11303889751434326,\n",
       " -0.1662752330303192,\n",
       " -0.1074620708823204,\n",
       " 0.13656309247016907,\n",
       " -0.09003092348575592,\n",
       " 0.08404999226331711,\n",
       " 0.10181917995214462,\n",
       " 1.4602588415145874,\n",
       " 0.21135184168815613,\n",
       " -1.208131194114685,\n",
       " -0.4610215425491333,\n",
       " 0.1018092930316925,\n",
       " 0.2874147593975067,\n",
       " 1.4432480335235596,\n",
       " -0.208764910697937,\n",
       " 1.2222967147827148,\n",
       " 0.42627280950546265,\n",
       " 0.11063724756240845,\n",
       " 0.3007511496543884]"
      ]
     },
     "execution_count": 9,
     "metadata": {},
     "output_type": "execute_result"
    }
   ],
   "source": [
    "lstPos1, lstPos2, lstPos3 = [2, 6], [8, 6], [14, 6]\n",
    "test =  [0.2862339913845062, 0.28611665964126587, 1.4602588415145874, 0.21135184168815613, -1.208131194114685, -0.4610215425491333, 0.1018092930316925, 0.2874147593975067, -0.1662752330303192, 0.1207890585064888, 0.13886761665344238, -0.0920860543847084, 0.0836828351020813, -0.11303889751434326, -0.1662752330303192, -0.1074620708823204, 0.13656309247016907, -0.09003092348575592, 0.08404999226331711, 0.10181917995214462, 1.4432480335235596, -0.208764910697937, 1.2222967147827148, 0.42627280950546265, 0.11063724756240845, 0.3007511496543884]\n",
    "\n",
    "test2 = swapAction(test.copy(), lstPos1, lstPos2)\n",
    "test2 = swapAction(test2.copy(), lstPos2, lstPos3)\n",
    "j_no = [2, 6, 6, 5, 5]\n",
    "test2"
   ]
  },
  {
   "cell_type": "code",
   "execution_count": 10,
   "id": "84e9feb7-e4f0-4028-b42f-223baba5bf31",
   "metadata": {
    "collapsed": true,
    "jupyter": {
     "outputs_hidden": true,
     "source_hidden": true
    },
    "tags": []
   },
   "outputs": [
    {
     "name": "stdout",
     "output_type": "stream",
     "text": [
      "[0.2862339913845062, 0.28611665964126587]\n",
      "[-0.1662752330303192, 0.1207890585064888, 0.13886761665344238, -0.0920860543847084, 0.0836828351020813, -0.11303889751434326]\n",
      "[-0.1662752330303192, -0.1074620708823204, 0.13656309247016907, -0.09003092348575592, 0.08404999226331711, 0.10181917995214462]\n",
      "[1.4602588415145874, 0.21135184168815613, -1.208131194114685, -0.4610215425491333, 0.1018092930316925]\n",
      "[1.4432480335235596, -0.208764910697937, 1.2222967147827148, 0.42627280950546265, 0.11063724756240845]\n"
     ]
    }
   ],
   "source": [
    "start = 0\n",
    "for j in j_no:\n",
    "    end = start + j\n",
    "    print(test2[start:end])\n",
    "    if(j==5):\n",
    "        test2.pop(end)\n",
    "    \n",
    "    start = end\n"
   ]
  },
  {
   "cell_type": "code",
   "execution_count": 2,
   "id": "fb54f504",
   "metadata": {},
   "outputs": [],
   "source": [
    "import numpy as np"
   ]
  },
  {
   "cell_type": "code",
   "execution_count": 8,
   "id": "f1d96a05",
   "metadata": {},
   "outputs": [
    {
     "data": {
      "text/plain": [
       "[1, 6, 2, 7, 5, 7, 7, 1, 2, 3]"
      ]
     },
     "execution_count": 8,
     "metadata": {},
     "output_type": "execute_result"
    }
   ],
   "source": [
    "q_list = []\n",
    "\n",
    "while len(q_list)<10: q_list.append(np.random.randint(0,10))\n",
    "\n",
    "q_list"
   ]
  }
 ],
 "metadata": {
  "interpreter": {
   "hash": "b10ac996f15756f49e2691e65b14dec4f6d695b94930975bb3a5137f4d6d1975"
  },
  "kernelspec": {
   "display_name": "Python 3.7.11 64-bit ('RL_local': conda)",
   "name": "python3"
  },
  "language_info": {
   "codemirror_mode": {
    "name": "ipython",
    "version": 3
   },
   "file_extension": ".py",
   "mimetype": "text/x-python",
   "name": "python",
   "nbconvert_exporter": "python",
   "pygments_lexer": "ipython3",
   "version": "3.7.11"
  }
 },
 "nbformat": 4,
 "nbformat_minor": 5
}
